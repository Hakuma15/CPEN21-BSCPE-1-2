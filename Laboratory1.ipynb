{
  "nbformat": 4,
  "nbformat_minor": 0,
  "metadata": {
    "colab": {
      "name": "Laboratory1.ipynb",
      "provenance": [],
      "authorship_tag": "ABX9TyM/wp75dIkvOol0QSdDAgp/",
      "include_colab_link": true
    },
    "kernelspec": {
      "name": "python3",
      "display_name": "Python 3"
    },
    "language_info": {
      "name": "python"
    }
  },
  "cells": [
    {
      "cell_type": "markdown",
      "metadata": {
        "id": "view-in-github",
        "colab_type": "text"
      },
      "source": [
        "<a href=\"https://colab.research.google.com/github/Hakuma15/CPEN21-BSCPE-1-2/blob/main/Laboratory1.ipynb\" target=\"_parent\"><img src=\"https://colab.research.google.com/assets/colab-badge.svg\" alt=\"Open In Colab\"/></a>"
      ]
    },
    {
      "cell_type": "code",
      "metadata": {
        "colab": {
          "base_uri": "https://localhost:8080/"
        },
        "id": "ffNW7ufw419u",
        "outputId": "02fae0fd-8429-4ad0-c320-047d4867a635"
      },
      "source": [
        "print(\"Welcome to Python Programming\")\n",
        "print(\" \")\n",
        "Name=\"Ian Rafael Umipig\"\n",
        "Age=\"18\"\n",
        "Address=\"Blk 6 Lot 29 Phase A LaTerraza Subdivision, Bucandala 3, Imus City, Cavite\"\n",
        "\n",
        "print(\"What is your name?\")\n",
        "print(\" Hello, I am \" +Name)\n",
        "print(\"How old are you?\")\n",
        "print(\" My Age is \"+Age)\n",
        "print(\"Where do you live?\")\n",
        "print(\" I live in \"+Address)"
      ],
      "execution_count": 7,
      "outputs": [
        {
          "output_type": "stream",
          "name": "stdout",
          "text": [
            "Welcome to Python Programming\n",
            " \n",
            "What is your name?\n",
            " Hello, I am Ian Rafael Umipig\n",
            "How old are you?\n",
            " My Age is 18\n",
            "Where do you live?\n",
            " I live in Blk 6 Lot 29 Phase A LaTerraza Subdivision, Bucandala 3, Imus City, Cavite\n"
          ]
        }
      ]
    }
  ]
}