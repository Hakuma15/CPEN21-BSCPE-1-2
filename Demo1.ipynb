{
  "nbformat": 4,
  "nbformat_minor": 0,
  "metadata": {
    "colab": {
      "name": "Demo.ipynb",
      "provenance": [],
      "authorship_tag": "ABX9TyOo5hHmy0N56H+hhcQ91O1R",
      "include_colab_link": true
    },
    "kernelspec": {
      "name": "python3",
      "display_name": "Python 3"
    },
    "language_info": {
      "name": "python"
    }
  },
  "cells": [
    {
      "cell_type": "markdown",
      "metadata": {
        "id": "view-in-github",
        "colab_type": "text"
      },
      "source": [
        "<a href=\"https://colab.research.google.com/github/Hakuma15/CPEN21-BSCPE-1-2/blob/main/Demo1.ipynb\" target=\"_parent\"><img src=\"https://colab.research.google.com/assets/colab-badge.svg\" alt=\"Open In Colab\"/></a>"
      ]
    },
    {
      "cell_type": "code",
      "metadata": {
        "id": "zal0Dl5VDhNE"
      },
      "source": [
        ""
      ],
      "execution_count": null,
      "outputs": []
    },
    {
      "cell_type": "markdown",
      "metadata": {
        "id": "FuNRFJ_XD1cM"
      },
      "source": [
        "### Python Indention"
      ]
    },
    {
      "cell_type": "code",
      "metadata": {
        "colab": {
          "base_uri": "https://localhost:8080/"
        },
        "id": "GHoGIA08EZ2j",
        "outputId": "ce9dc330-e63b-455f-9860-f6093bf1a9cc"
      },
      "source": [
        "if 5>2:\n",
        "  print(\"Five is greater than two\")"
      ],
      "execution_count": 1,
      "outputs": [
        {
          "output_type": "stream",
          "name": "stdout",
          "text": [
            "Five is greater than two\n"
          ]
        }
      ]
    },
    {
      "cell_type": "code",
      "metadata": {
        "colab": {
          "base_uri": "https://localhost:8080/"
        },
        "id": "SyWeY-obE4Ya",
        "outputId": "28e80457-336c-4527-a2d3-5778aae2ae20"
      },
      "source": [
        "print(\"Good Morning Everybody!\") #This is a comment"
      ],
      "execution_count": 3,
      "outputs": [
        {
          "output_type": "stream",
          "name": "stdout",
          "text": [
            "Good Morning Everybody!\n"
          ]
        }
      ]
    },
    {
      "cell_type": "code",
      "metadata": {
        "colab": {
          "base_uri": "https://localhost:8080/"
        },
        "id": "ABc1u-GJFfLK",
        "outputId": "429e6db1-4c0a-48c8-a9d2-c2cb9b1b2f64"
      },
      "source": [
        "x=1\n",
        "x,y=1,2\n",
        "x,y,z=1,2,3\n",
        "print(x)\n",
        "print(y)\n",
        "print(z)"
      ],
      "execution_count": 4,
      "outputs": [
        {
          "output_type": "stream",
          "name": "stdout",
          "text": [
            "1\n",
            "2\n",
            "3\n"
          ]
        }
      ]
    },
    {
      "cell_type": "code",
      "metadata": {
        "colab": {
          "base_uri": "https://localhost:8080/"
        },
        "id": "0E8zLJ8fF37K",
        "outputId": "afbcc360-0e2f-461b-d3c9-2a1d4f386491"
      },
      "source": [
        "b=int(4)\n",
        "print(b)"
      ],
      "execution_count": 5,
      "outputs": [
        {
          "output_type": "stream",
          "name": "stdout",
          "text": [
            "4\n"
          ]
        }
      ]
    },
    {
      "cell_type": "code",
      "metadata": {
        "colab": {
          "base_uri": "https://localhost:8080/"
        },
        "id": "dPSd0p1RGHzS",
        "outputId": "f9c7a3ff-83e1-4cc8-ea10-0754f1cffe69"
      },
      "source": [
        "c=float(4)\n",
        "print(c)"
      ],
      "execution_count": 6,
      "outputs": [
        {
          "output_type": "stream",
          "name": "stdout",
          "text": [
            "4.0\n"
          ]
        }
      ]
    },
    {
      "cell_type": "code",
      "metadata": {
        "colab": {
          "base_uri": "https://localhost:8080/"
        },
        "id": "yprb_rO1GPNy",
        "outputId": "723cbbf4-5172-4640-c60a-38ba77fd1abb"
      },
      "source": [
        "x=10\n",
        "y=\"IAN\"\n",
        "print(type(x))\n",
        "print(type(y))"
      ],
      "execution_count": 7,
      "outputs": [
        {
          "output_type": "stream",
          "name": "stdout",
          "text": [
            "<class 'int'>\n",
            "<class 'str'>\n"
          ]
        }
      ]
    },
    {
      "cell_type": "code",
      "metadata": {
        "colab": {
          "base_uri": "https://localhost:8080/"
        },
        "id": "6vV4RBCGG2hZ",
        "outputId": "781f372a-4079-4f51-9f38-28efd528e31a"
      },
      "source": [
        "y='IAN'\n",
        "y=\"Ian\"\n",
        "print(y)"
      ],
      "execution_count": 9,
      "outputs": [
        {
          "output_type": "stream",
          "name": "stdout",
          "text": [
            "Ian\n"
          ]
        }
      ]
    },
    {
      "cell_type": "code",
      "metadata": {
        "colab": {
          "base_uri": "https://localhost:8080/"
        },
        "id": "rN9J3_74HIOx",
        "outputId": "e9a66e3d-7ae6-47cf-a284-63590211883a"
      },
      "source": [
        "a=5         #A will not overwrite a.\n",
        "A=\"ian\"\n",
        "print(a)\n",
        "print(A)"
      ],
      "execution_count": 11,
      "outputs": [
        {
          "output_type": "stream",
          "name": "stdout",
          "text": [
            "5\n",
            "ian\n"
          ]
        }
      ]
    },
    {
      "cell_type": "code",
      "metadata": {
        "colab": {
          "base_uri": "https://localhost:8080/"
        },
        "id": "G43zpQ9_IP3x",
        "outputId": "87df570f-9125-4ffd-fcb9-ba9168c3a5ab"
      },
      "source": [
        "x,y,z=1,2,3\n",
        "print(x)\n",
        "print(y)\n",
        "print(z)"
      ],
      "execution_count": 15,
      "outputs": [
        {
          "output_type": "stream",
          "name": "stdout",
          "text": [
            "1\n",
            "2\n",
            "3\n"
          ]
        }
      ]
    },
    {
      "cell_type": "code",
      "metadata": {
        "colab": {
          "base_uri": "https://localhost:8080/"
        },
        "id": "40nPxhg7H_Ve",
        "outputId": "92191c24-0077-4820-8f70-8472bda82fc7"
      },
      "source": [
        "x=y=z=\"Congratulations!\"\n",
        "print(x)\n",
        "print(y)\n",
        "print(z)"
      ],
      "execution_count": 14,
      "outputs": [
        {
          "output_type": "stream",
          "name": "stdout",
          "text": [
            "Congratulations!\n",
            "Congratulations!\n",
            "Congratulations!\n"
          ]
        }
      ]
    },
    {
      "cell_type": "code",
      "metadata": {
        "colab": {
          "base_uri": "https://localhost:8080/"
        },
        "id": "HQIsArGWIejg",
        "outputId": "d9f153d9-ba69-4c95-8369-4dc1542814bd"
      },
      "source": [
        "x=\"Birthday!\"\n",
        "print(\"Happy \"+x)"
      ],
      "execution_count": 17,
      "outputs": [
        {
          "output_type": "stream",
          "name": "stdout",
          "text": [
            "Happy Birthday!\n"
          ]
        }
      ]
    },
    {
      "cell_type": "code",
      "metadata": {
        "colab": {
          "base_uri": "https://localhost:8080/"
        },
        "id": "xYDfEVOfItlH",
        "outputId": "7802473e-149a-409b-d865-a16c73dfe250"
      },
      "source": [
        "x=\"Good\"\n",
        "y=\"Morning\"\n",
        "z=x+y\n",
        "print(z)"
      ],
      "execution_count": 21,
      "outputs": [
        {
          "output_type": "stream",
          "name": "stdout",
          "text": [
            "GoodMorning\n"
          ]
        }
      ]
    },
    {
      "cell_type": "code",
      "metadata": {
        "colab": {
          "base_uri": "https://localhost:8080/"
        },
        "id": "WTvFb8rBI83o",
        "outputId": "e777a060-5ba8-4d52-c8c9-e6de34575a23"
      },
      "source": [
        "x=100\n",
        "y=100\n",
        "print(x+y)"
      ],
      "execution_count": 22,
      "outputs": [
        {
          "output_type": "stream",
          "name": "stdout",
          "text": [
            "200\n"
          ]
        }
      ]
    },
    {
      "cell_type": "code",
      "metadata": {
        "id": "USklhnJzJZXB"
      },
      "source": [
        "x=1\n",
        "y=10\n",
        "z=2\n"
      ],
      "execution_count": 23,
      "outputs": []
    },
    {
      "cell_type": "code",
      "metadata": {
        "colab": {
          "base_uri": "https://localhost:8080/"
        },
        "id": "snmi3J-PJ_LX",
        "outputId": "b3f9302f-605c-496e-e06e-c317f2928b1a"
      },
      "source": [
        "x=100    #assignment operator\n",
        "x+=110\n",
        "print(x)\n"
      ],
      "execution_count": 29,
      "outputs": [
        {
          "output_type": "stream",
          "name": "stdout",
          "text": [
            "210\n"
          ]
        }
      ]
    },
    {
      "cell_type": "code",
      "metadata": {
        "colab": {
          "base_uri": "https://localhost:8080/"
        },
        "id": "VomgCrF9JfBY",
        "outputId": "a1aa5cfe-fa82-4627-cbe1-a65888fbf632"
      },
      "source": [
        "x==y  #comparison operator"
      ],
      "execution_count": 24,
      "outputs": [
        {
          "output_type": "execute_result",
          "data": {
            "text/plain": [
              "False"
            ]
          },
          "metadata": {},
          "execution_count": 24
        }
      ]
    },
    {
      "cell_type": "code",
      "metadata": {
        "colab": {
          "base_uri": "https://localhost:8080/"
        },
        "id": "oAqRuNMKJlN_",
        "outputId": "3d75777b-377c-4474-d40f-760e32152df3"
      },
      "source": [
        "x!=z"
      ],
      "execution_count": 25,
      "outputs": [
        {
          "output_type": "execute_result",
          "data": {
            "text/plain": [
              "True"
            ]
          },
          "metadata": {},
          "execution_count": 25
        }
      ]
    },
    {
      "cell_type": "code",
      "metadata": {
        "colab": {
          "base_uri": "https://localhost:8080/"
        },
        "id": "xSwECusUJsmg",
        "outputId": "0f762378-330e-4d17-dac2-8bb3b51fb979"
      },
      "source": [
        "x==y and x!=z #logical operator"
      ],
      "execution_count": 26,
      "outputs": [
        {
          "output_type": "execute_result",
          "data": {
            "text/plain": [
              "False"
            ]
          },
          "metadata": {},
          "execution_count": 26
        }
      ]
    },
    {
      "cell_type": "code",
      "metadata": {
        "colab": {
          "base_uri": "https://localhost:8080/"
        },
        "id": "fXhlPWpdK5hG",
        "outputId": "f5e1d5ac-bf80-4c4d-bce6-0f21e4a2d543"
      },
      "source": [
        "x,y,z=1,4,3\n",
        "x is y           #Identity operator"
      ],
      "execution_count": 31,
      "outputs": [
        {
          "output_type": "execute_result",
          "data": {
            "text/plain": [
              "False"
            ]
          },
          "metadata": {},
          "execution_count": 31
        }
      ]
    }
  ]
}