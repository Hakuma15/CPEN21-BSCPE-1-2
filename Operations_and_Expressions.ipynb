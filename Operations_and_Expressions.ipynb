{
  "nbformat": 4,
  "nbformat_minor": 0,
  "metadata": {
    "colab": {
      "name": "Operations and Expressions.ipynb",
      "provenance": [],
      "authorship_tag": "ABX9TyPWhvl4YU0WpCIoyxkOLycD",
      "include_colab_link": true
    },
    "kernelspec": {
      "name": "python3",
      "display_name": "Python 3"
    },
    "language_info": {
      "name": "python"
    }
  },
  "cells": [
    {
      "cell_type": "markdown",
      "metadata": {
        "id": "view-in-github",
        "colab_type": "text"
      },
      "source": [
        "<a href=\"https://colab.research.google.com/github/Hakuma15/CPEN21-BSCPE-1-2/blob/main/Operations_and_Expressions.ipynb\" target=\"_parent\"><img src=\"https://colab.research.google.com/assets/colab-badge.svg\" alt=\"Open In Colab\"/></a>"
      ]
    },
    {
      "cell_type": "markdown",
      "metadata": {
        "id": "JDyRBZoa0Z_U"
      },
      "source": [
        "##Boolean Operators\n"
      ]
    },
    {
      "cell_type": "code",
      "metadata": {
        "colab": {
          "base_uri": "https://localhost:8080/"
        },
        "id": "97Tdgvau0dZj",
        "outputId": "e24e51f8-ee2c-499e-c1ad-eb72b280d385"
      },
      "source": [
        "#Booleans represent one or two values: True or False\n",
        "print(10>9)\n",
        "print(10==9)\n",
        "print(9>10)"
      ],
      "execution_count": 3,
      "outputs": [
        {
          "output_type": "stream",
          "name": "stdout",
          "text": [
            "True\n",
            "False\n",
            "False\n"
          ]
        }
      ]
    },
    {
      "cell_type": "code",
      "metadata": {
        "colab": {
          "base_uri": "https://localhost:8080/"
        },
        "id": "E6GttfpO06Ak",
        "outputId": "f5d9e89e-ec2a-4e7c-f77b-898becffca2e"
      },
      "source": [
        "a = 10\n",
        "b = 9\n",
        "print(a>b)\n",
        "print(a==a)\n",
        "print(b>a)\n",
        "print(b>a)"
      ],
      "execution_count": 11,
      "outputs": [
        {
          "output_type": "stream",
          "name": "stdout",
          "text": [
            "True\n",
            "True\n",
            "False\n",
            "False\n"
          ]
        }
      ]
    },
    {
      "cell_type": "code",
      "metadata": {
        "colab": {
          "base_uri": "https://localhost:8080/"
        },
        "id": "RTVZ4Am21t2A",
        "outputId": "65a01649-0a69-422b-db1c-de1676db5381"
      },
      "source": [
        "print(bool(\"hello\"))\n",
        "print(bool(15))\n",
        "print(bool(True))"
      ],
      "execution_count": 14,
      "outputs": [
        {
          "output_type": "stream",
          "name": "stdout",
          "text": [
            "True\n",
            "True\n",
            "True\n"
          ]
        }
      ]
    },
    {
      "cell_type": "code",
      "metadata": {
        "colab": {
          "base_uri": "https://localhost:8080/"
        },
        "id": "gGnTT_gp2G7T",
        "outputId": "024c333a-6230-45a6-f45d-1c336c152a2e"
      },
      "source": [
        "print(bool(False))\n",
        "print(bool(None))\n",
        "print(bool(0))\n",
        "print(bool([]))    #allows you to evaluate and give False in return\n"
      ],
      "execution_count": 19,
      "outputs": [
        {
          "output_type": "stream",
          "name": "stdout",
          "text": [
            "False\n",
            "False\n",
            "False\n",
            "False\n"
          ]
        }
      ]
    },
    {
      "cell_type": "code",
      "metadata": {
        "colab": {
          "base_uri": "https://localhost:8080/"
        },
        "id": "gN-vR0oK2pRM",
        "outputId": "cfb902df-f939-4b18-c9ea-8f211624da74"
      },
      "source": [
        "def myFunction():return True\n",
        "print(myFunction())\n"
      ],
      "execution_count": 20,
      "outputs": [
        {
          "output_type": "stream",
          "name": "stdout",
          "text": [
            "True\n"
          ]
        }
      ]
    },
    {
      "cell_type": "code",
      "metadata": {
        "colab": {
          "base_uri": "https://localhost:8080/"
        },
        "id": "GfLEU69t3Eeb",
        "outputId": "84f5c452-6bc2-4f15-d0fe-a93bc59af836"
      },
      "source": [
        "def myFunction():return True\n",
        "\n",
        "\n",
        "if (myFunction()):\n",
        "  print(\"Yes\")\n",
        "else:\n",
        "  print(\"No\")"
      ],
      "execution_count": 26,
      "outputs": [
        {
          "output_type": "stream",
          "name": "stdout",
          "text": [
            "Yes\n"
          ]
        }
      ]
    },
    {
      "cell_type": "markdown",
      "metadata": {
        "id": "UtYBowd14j1U"
      },
      "source": [
        "##You Try!"
      ]
    },
    {
      "cell_type": "code",
      "metadata": {
        "colab": {
          "base_uri": "https://localhost:8080/"
        },
        "id": "-0brVttB4PVt",
        "outputId": "ce93bd19-16ba-4a5f-8b67-0495ce9b8754"
      },
      "source": [
        "a=6\n",
        "b=7\n",
        "print(a==b)\n",
        "print(a!=a)"
      ],
      "execution_count": 29,
      "outputs": [
        {
          "output_type": "stream",
          "name": "stdout",
          "text": [
            "False\n",
            "False\n"
          ]
        }
      ]
    },
    {
      "cell_type": "code",
      "metadata": {
        "colab": {
          "base_uri": "https://localhost:8080/"
        },
        "id": "y75bo5ip44Pg",
        "outputId": "df3e6c37-e3be-48b7-ae4a-975a28ac8696"
      },
      "source": [
        "print(10+5)\n",
        "print(10-5)\n",
        "print(10*5)\n",
        "print(10/5) #division-quotient\n",
        "print(10%5) #modulo division\n",
        "print(10%3)\n",
        "print(10//3) #floor division\n",
        "print(10**2) #concatenation"
      ],
      "execution_count": 35,
      "outputs": [
        {
          "output_type": "stream",
          "name": "stdout",
          "text": [
            "15\n",
            "5\n",
            "50\n",
            "2.0\n",
            "0\n",
            "1\n",
            "3\n",
            "100\n"
          ]
        }
      ]
    },
    {
      "cell_type": "code",
      "metadata": {
        "colab": {
          "base_uri": "https://localhost:8080/"
        },
        "id": "VdVTmL3z5QKI",
        "outputId": "b174b435-27aa-4930-a0d5-aa7ce989c860"
      },
      "source": [
        "a=60 #0011 1100\n",
        "b=13 #0000 1101\n",
        "\n",
        "print(a & b)\n",
        "print(a | b)\n",
        "print(a^b)\n",
        "print(a<<2)\n",
        "print(b>>a)"
      ],
      "execution_count": 40,
      "outputs": [
        {
          "output_type": "stream",
          "name": "stdout",
          "text": [
            "12\n",
            "61\n",
            "49\n",
            "240\n",
            "0\n"
          ]
        }
      ]
    },
    {
      "cell_type": "code",
      "metadata": {
        "colab": {
          "base_uri": "https://localhost:8080/"
        },
        "id": "AYsCZIfA-7it",
        "outputId": "ffab3bec-5589-4993-ed2c-e41fe7f1643f"
      },
      "source": [
        "x=6\n",
        "x+=3 #x=x+3\n",
        "\n",
        "print(x)\n",
        "\n",
        "x%=3 #x=x%3, remainder 0\n",
        "print(x)"
      ],
      "execution_count": 42,
      "outputs": [
        {
          "output_type": "stream",
          "name": "stdout",
          "text": [
            "9\n",
            "0\n"
          ]
        }
      ]
    },
    {
      "cell_type": "code",
      "metadata": {
        "colab": {
          "base_uri": "https://localhost:8080/"
        },
        "id": "e_3_QuvQ_avM",
        "outputId": "d5e2e236-96be-43d0-8461-25b5d48a6fc0"
      },
      "source": [
        "a=True\n",
        "b=False\n",
        "\n",
        "print(a and b)\n",
        "print(a or b)\n",
        "print(not(a and b)) #negation"
      ],
      "execution_count": 45,
      "outputs": [
        {
          "output_type": "stream",
          "name": "stdout",
          "text": [
            "False\n",
            "True\n",
            "True\n"
          ]
        }
      ]
    },
    {
      "cell_type": "code",
      "metadata": {
        "colab": {
          "base_uri": "https://localhost:8080/"
        },
        "id": "sQKDomDzABFt",
        "outputId": "3b6da55e-f8a8-4848-c1e7-0998ee8b4ce8"
      },
      "source": [
        "print(a is b) \n",
        "print(a is not b)"
      ],
      "execution_count": 48,
      "outputs": [
        {
          "output_type": "stream",
          "name": "stdout",
          "text": [
            "False\n",
            "True\n"
          ]
        }
      ]
    }
  ]
}