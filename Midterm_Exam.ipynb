{
  "nbformat": 4,
  "nbformat_minor": 0,
  "metadata": {
    "colab": {
      "name": "Midterm Exam.ipynb",
      "provenance": [],
      "authorship_tag": "ABX9TyNbnS14NRCfc6XL+V7Hf90N",
      "include_colab_link": true
    },
    "kernelspec": {
      "name": "python3",
      "display_name": "Python 3"
    },
    "language_info": {
      "name": "python"
    }
  },
  "cells": [
    {
      "cell_type": "markdown",
      "metadata": {
        "id": "view-in-github",
        "colab_type": "text"
      },
      "source": [
        "<a href=\"https://colab.research.google.com/github/Hakuma15/CPEN21-BSCPE-1-2/blob/main/Midterm_Exam.ipynb\" target=\"_parent\"><img src=\"https://colab.research.google.com/assets/colab-badge.svg\" alt=\"Open In Colab\"/></a>"
      ]
    },
    {
      "cell_type": "markdown",
      "metadata": {
        "id": "R96NKStuCRew"
      },
      "source": [
        "##Problem Statement 1"
      ]
    },
    {
      "cell_type": "code",
      "metadata": {
        "colab": {
          "base_uri": "https://localhost:8080/"
        },
        "id": "ufJMcV56CXnZ",
        "outputId": "aad2dc43-ec7c-4f32-8163-a14d1be90c52"
      },
      "source": [
        "Name=\"Ian Rafael Umipig\"\n",
        "SN=\"202102024\"\n",
        "Age=\"18\"\n",
        "Birthday=\"December 15, 2002\"\n",
        "Address=\"Blk 6 Lot 29 Phase A. Laterraza Subdivision, Imus City, Cavite\"\n",
        "Course=\"Bachelor of Science in Computer Engineering\"\n",
        "GWA=\"95\"\n",
        "\n",
        "print(\"I am \" + Name)\n",
        "print(\"My Student number is \" + SN)\n",
        "print(\"I am in the age of \" + Age)\n",
        "print(\"My Birthday is in \" + Birthday)\n",
        "print(\"I live in \" + Address)\n",
        "print(\"My Course is \" + Course)\n",
        "print(\"My last GWA is \" + GWA)\n"
      ],
      "execution_count": 9,
      "outputs": [
        {
          "output_type": "stream",
          "name": "stdout",
          "text": [
            "I am Ian Rafael Umipig\n",
            "My Student number is 202102024\n",
            "I am in the age of 18\n",
            "My Birthday is in December 15, 2002\n",
            "I live in Blk 6 Lot 29 Phase A. Laterraza Subdivision, Imus City, Cavite\n",
            "My Course is Bachelor of Science in Computer Engineering\n",
            "My last GWA is 95\n"
          ]
        }
      ]
    },
    {
      "cell_type": "markdown",
      "metadata": {
        "id": "djgTIUf1FV7_"
      },
      "source": [
        "##Problem Statement 2"
      ]
    },
    {
      "cell_type": "code",
      "metadata": {
        "colab": {
          "base_uri": "https://localhost:8080/"
        },
        "id": "2a85LUivFYdu",
        "outputId": "beafca82-8880-4dc9-dff8-285b94a1a93c"
      },
      "source": [
        "n=4\n",
        "answ=\"Y\"\n",
        "\n",
        "print(bool(2<n) and (n<6))   #a\n",
        "print(bool(2<n) or (n==6)) #b\n",
        "print(bool(not (2<n) or (n==6))) #c\n",
        "print(bool(not (n<6))) #d\n",
        "print(bool(answ==\"Y\") or (answ==\"y\")) #e\n",
        "print(bool(answ==\"Y\") and (answ==\"y\")) #f\n",
        "print(bool(not(answ==\"y\"))) #g\n",
        "print(bool((2<n) and (n==5+1)) or (answ==\"No\")) #h\n",
        "print(bool((n==2) and (n==7)) or (answ==\"Y\")) #i\n",
        "print(bool(n==2) and ((n==7) or (answ==\"Y\"))) #j\n"
      ],
      "execution_count": 36,
      "outputs": [
        {
          "output_type": "stream",
          "name": "stdout",
          "text": [
            "True\n",
            "True\n",
            "False\n",
            "False\n",
            "True\n",
            "False\n",
            "True\n",
            "False\n",
            "True\n",
            "False\n"
          ]
        }
      ]
    },
    {
      "cell_type": "markdown",
      "metadata": {
        "id": "o6K4ojdmF6L-"
      },
      "source": [
        "##Problem Statement 3"
      ]
    },
    {
      "cell_type": "code",
      "metadata": {
        "colab": {
          "base_uri": "https://localhost:8080/"
        },
        "id": "XP0gLDNPF86w",
        "outputId": "31590a46-7ea1-4b8b-95d1-be49144923a5"
      },
      "source": [
        "x=2\n",
        "y=-3\n",
        "w=7\n",
        "z=-10\n",
        "\n",
        "print(x/y) #a\n",
        "print(w/y/x) #b\n",
        "print(z/y%x) #c\n",
        "print(x%-y*w) #d\n",
        "print(x%y) #e\n",
        "print(z%w-y/x*5+5) #f\n",
        "print(9-x%(2+y)) #g\n",
        "print(z//w) #h\n",
        "print((2+y)**2) #i\n",
        "print(w/x*2) #j"
      ],
      "execution_count": 35,
      "outputs": [
        {
          "output_type": "stream",
          "name": "stdout",
          "text": [
            "-0.6666666666666666\n",
            "-1.1666666666666667\n",
            "1.3333333333333335\n",
            "14\n",
            "-1\n",
            "16.5\n",
            "9\n",
            "-2\n",
            "1\n",
            "7.0\n"
          ]
        }
      ]
    }
  ]
}