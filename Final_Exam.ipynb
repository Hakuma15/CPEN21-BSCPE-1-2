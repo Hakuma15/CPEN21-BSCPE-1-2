{
  "nbformat": 4,
  "nbformat_minor": 0,
  "metadata": {
    "colab": {
      "name": "Final Exam.ipynb",
      "provenance": [],
      "authorship_tag": "ABX9TyOWyiNN4+TxTRdr7nDK5QB9",
      "include_colab_link": true
    },
    "kernelspec": {
      "name": "python3",
      "display_name": "Python 3"
    },
    "language_info": {
      "name": "python"
    }
  },
  "cells": [
    {
      "cell_type": "markdown",
      "metadata": {
        "id": "view-in-github",
        "colab_type": "text"
      },
      "source": [
        "<a href=\"https://colab.research.google.com/github/Hakuma15/CPEN21-BSCPE-1-2/blob/main/Final_Exam.ipynb\" target=\"_parent\"><img src=\"https://colab.research.google.com/assets/colab-badge.svg\" alt=\"Open In Colab\"/></a>"
      ]
    },
    {
      "cell_type": "markdown",
      "source": [
        "##Problem Statement 1"
      ],
      "metadata": {
        "id": "FQzqYmCS6wg-"
      }
    },
    {
      "cell_type": "code",
      "source": [
        "Total= 0\n",
        "for i in range(0,10):\n",
        "  i = int(input(\"Enter a number:  \"))\n",
        "\n",
        "  if i>=5:\n",
        "    print(\"\\nAll numbers must be less than 5. So please try again.\")\n",
        "    break\n",
        "\n",
        "  elif i<5:\n",
        "    Total= (i + Total) \n",
        "print(\"\\nTOTAL SUM OF NUMBERS LESS THAN 5 IS: \", Total)\n"
      ],
      "metadata": {
        "colab": {
          "base_uri": "https://localhost:8080/"
        },
        "id": "e9X6D8Nrga76",
        "outputId": "16fe74ec-7206-4152-f66c-ff8ee579457f"
      },
      "execution_count": null,
      "outputs": [
        {
          "output_type": "stream",
          "name": "stdout",
          "text": [
            "Enter a number:  3\n",
            "Enter a number:  2\n",
            "Enter a number:  3\n",
            "Enter a number:  4\n",
            "Enter a number:  1\n",
            "Enter a number:  2\n",
            "Enter a number:  3\n",
            "Enter a number:  4\n",
            "Enter a number:  2\n",
            "Enter a number:  1\n",
            "\n",
            "TOTAL SUM OF NUMBERS LESS THAN 5 IS:  25\n"
          ]
        }
      ]
    },
    {
      "cell_type": "markdown",
      "source": [
        "##Problem Statement 2"
      ],
      "metadata": {
        "id": "sYq44YiQt2DI"
      }
    },
    {
      "cell_type": "code",
      "source": [
        "counter = 0\n",
        "no = []\n",
        "\n",
        "while counter<6:\n",
        "\tif counter == 5:\n",
        "\t\tprint(\"\\nThe sum of first and last number is: \", no[0] + no[4])\n",
        "\t\tbreak\n",
        "\n",
        "\telse:\n",
        "\t\tg = int(input(\"Enter a number: \"))\n",
        "\t\tno.append(g)\n",
        "\t\tcounter = counter +1\n",
        "\n"
      ],
      "metadata": {
        "colab": {
          "base_uri": "https://localhost:8080/"
        },
        "id": "SeX26B3mt2sv",
        "outputId": "8f552b06-d8b9-423c-806d-dbf48e8610d0"
      },
      "execution_count": null,
      "outputs": [
        {
          "output_type": "stream",
          "name": "stdout",
          "text": [
            "Enter a number: 1\n",
            "Enter a number: 2\n",
            "Enter a number: 3\n",
            "Enter a number: 4\n",
            "Enter a number: 5\n",
            "\n",
            "The sum of first and last number is:  6\n"
          ]
        }
      ]
    },
    {
      "cell_type": "markdown",
      "source": [
        "##Problem Statement 3"
      ],
      "metadata": {
        "id": "fgPKDuj8wr2Y"
      }
    },
    {
      "cell_type": "code",
      "source": [
        "\n",
        "Math = float(input(\"Enter Math Grade here: \"))\n",
        "Science = float(input(\"Enter Science Grade here: \"))\n",
        "English = float(input(\"Enter English Grade here: \"))\n",
        "Filipino = float(input(\"Enter Filipino Grade here: \"))\n",
        "PE = float(input(\"Enter PE Grade here: \"))\n",
        "\n",
        "total= Math + Science + English + Filipino + PE\n",
        "A = total/5\n",
        "\n",
        "print(\"\\nTotal Average is: \", A)\n",
        "if A>=90:                                               \n",
        "  print(\"Your Grade Remark is A.\")\n",
        "else:\n",
        "    if 90>A>=80:\n",
        "      print(\"Your Grade Remark is B.\")\n",
        "    else:\n",
        "        if 80>A>=70:\n",
        "          print(\"Your Grade Remark is C.\")\n",
        "        else:\n",
        "            if 70>A>60:\n",
        "              print(\"Your Grade Remark is D.\")\n",
        "            else:\n",
        "                if A<=60:\n",
        "                  print(\"Your Grade Remark is F.\")\n",
        "\n",
        "\n",
        "\n",
        "\n",
        "\n"
      ],
      "metadata": {
        "id": "z32AgCh7wuSa",
        "colab": {
          "base_uri": "https://localhost:8080/"
        },
        "outputId": "39b5e455-0a2a-48c6-8e56-e0b7efc9f90d"
      },
      "execution_count": null,
      "outputs": [
        {
          "output_type": "stream",
          "name": "stdout",
          "text": [
            "Enter Math Grade here: 90\n",
            "Enter Science Grade here: 90\n",
            "Enter English Grade here: 90\n",
            "Enter Filipino Grade here: 98\n",
            "Enter PE Grade here: 99\n",
            "\n",
            "Total Average is:  93.4\n",
            "Your Grade Remark is A.\n"
          ]
        }
      ]
    }
  ]
}